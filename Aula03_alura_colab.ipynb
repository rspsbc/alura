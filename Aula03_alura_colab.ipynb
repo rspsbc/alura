{
  "nbformat": 4,
  "nbformat_minor": 0,
  "metadata": {
    "colab": {
      "provenance": [],
      "authorship_tag": "ABX9TyOVqpsFfjfOA1TlAouQ3w41",
      "include_colab_link": true
    },
    "kernelspec": {
      "name": "python3",
      "display_name": "Python 3"
    },
    "language_info": {
      "name": "python"
    }
  },
  "cells": [
    {
      "cell_type": "markdown",
      "metadata": {
        "id": "view-in-github",
        "colab_type": "text"
      },
      "source": [
        "<a href=\"https://colab.research.google.com/github/rspsbc/alura/blob/main/Aula03_alura_colab.ipynb\" target=\"_parent\"><img src=\"https://colab.research.google.com/assets/colab-badge.svg\" alt=\"Open In Colab\"/></a>"
      ]
    },
    {
      "cell_type": "code",
      "execution_count": null,
      "metadata": {
        "colab": {
          "base_uri": "https://localhost:8080/"
        },
        "id": "R1dIHpaPOvio",
        "outputId": "db3825a3-9932-489d-b155-920822981152"
      },
      "outputs": [
        {
          "output_type": "stream",
          "name": "stdout",
          "text": [
            "[{'palavra': 'python', 'dica': 'automatizar tarefas e desenvolver aplicações web.'}, {'palavra': 'javascript', 'dica': 'criar interatividade em páginas web e desenvolver aplicações front-end.'}, {'palavra': 'java', 'dica': 'desenvolver aplicações empresariais e para dispositivos móveis.'}, {'palavra': 'html', 'dica': 'estruturar conteúdo em páginas web.'}, {'palavra': 'css', 'dica': 'estilizar elementos em páginas web.'}, {'palavra': 'sql', 'dica': 'gerenciar e consultar bancos de dados relacionais.'}, {'palavra': 'react', 'dica': 'desenvolver interfaces de usuário reativas e escaláveis.'}, {'palavra': 'angular', 'dica': 'construir aplicativos web spa (single page application) complexos.'}, {'palavra': 'node', 'dica': 'criar aplicativos de servidor escaláveis e de alta performance.'}, {'palavra': 'vue', 'dica': 'desenvolver interfaces de usuário interativas e dinâmicas.'}, {'palavra': 'ruby', 'dica': 'desenvolver aplicações web e scripts de automação.'}, {'palavra': 'php', 'dica': 'construir aplicações web dinâmicas e interativas.'}, {'palavra': 'c++', 'dica': 'desenvolver software de sistema, jogos e aplicações de alto desempenho.'}, {'palavra': 'c#', 'dica': 'desenvolver aplicações windows e jogos utilizando o framework .net.'}, {'palavra': 'swift', 'dica': 'desenvolver aplicativos para dispositivos apple, como iphone e ipad.'}, {'palavra': 'kotlin', 'dica': 'desenvolver aplicativos android modernos e seguros.'}, {'palavra': 'tensorflow', 'dica': 'construir e treinar modelos de aprendizado de máquina.'}, {'palavra': 'pytorch', 'dica': 'desenvolver e treinar modelos de aprendizado profundo.'}, {'palavra': 'mongodb', 'dica': 'armazenar e consultar dados de forma flexível e escalável.'}, {'palavra': 'postgresql', 'dica': 'gerenciar dados estruturados e relacionais com segurança.'}, {'palavra': 'docker', 'dica': 'empacotar, distribuir e executar aplicativos em contêineres.'}, {'palavra': 'kubernetes', 'dica': 'orquestrar e gerenciar contêineres em ambientes de produção.'}, {'palavra': 'git', 'dica': 'controlar e colaborar no desenvolvimento de código-fonte.'}, {'palavra': 'jupyter', 'dica': 'criar e compartilhar documentos que contenham código interativo, visualizações e textos explicativos.'}, {'palavra': 'r', 'dica': 'analisar dados e criar visualizações estatísticas.'}, {'palavra': 'scala', 'dica': 'desenvolver aplicativos escaláveis e concorrentes na jvm.'}, {'palavra': 'hadoop', 'dica': 'armazenar e processar grandes volumes de dados em clusters distribuídos.'}, {'palavra': 'spark', 'dica': 'processar e analisar dados de forma rápida e escalável.'}, {'palavra': 'arduino', 'dica': 'desenvolver projetos eletrônicos interativos e automatizados.'}, {'palavra': 'raspberry', 'dica': 'criar dispositivos e projetos de iot (internet das coisas) com baixo custo.'}, {'palavra': 'linux', 'dica': 'utilizar e administrar sistemas operacionais de código aberto.'}, {'palavra': 'windows', 'dica': 'desenvolver aplicativos e sistemas operacionais para computadores pessoais.'}, {'palavra': 'macos', 'dica': 'desenvolver aplicativos para computadores apple e sistemas operacionais.'}, {'palavra': 'android', 'dica': 'desenvolver aplicativos para dispositivos móveis android.'}, {'palavra': 'ios', 'dica': 'desenvolver aplicativos para dispositivos móveis apple (iphone e ipad).'}, {'palavra': 'firebase', 'dica': 'desenvolver aplicativos móveis e web com uma plataforma de backend escalável.'}, {'palavra': 'aws', 'dica': 'implantar e gerenciar aplicativos em uma plataforma de nuvem líder de mercado.'}, {'palavra': 'azure', 'dica': 'desenvolver, implantar e gerenciar aplicativos em uma plataforma de nuvem da microsoft.'}, {'palavra': 'google', 'dica': 'utilizar serviços e produtos da google para desenvolvimento e negócios.'}, {'palavra': 'api', 'dica': 'integrar e comunicar sistemas e serviços de software.'}, {'palavra': 'rest', 'dica': 'criar e consumir apis web de maneira simples e eficiente.'}, {'palavra': 'graphql', 'dica': 'consultar e manipular dados de forma eficiente e flexível.'}, {'palavra': 'oauth', 'dica': 'implementar autenticação e autorização em aplicativos.'}]\n",
            " A palavra secreta tem 5 letras\n",
            " A dica é -> desenvolver interfaces de usuário reativas e escaláveis.\n",
            "O que você acha que é:react\n",
            "Acertou\n"
          ]
        }
      ],
      "source": [
        "# Importa as bibliotecas requests e random que serão utilizadas no código\n",
        "import requests\n",
        "import random\n",
        "\n",
        "# Armazena o endereço da API que contém as informações do jogo em uma variável chamada 'url'\n",
        "url = 'https://raw.githubusercontent.com/guilhermeonrails/api-imersao-ia/main/words.json'\n",
        "\n",
        "# Faz uma requisição HTTP GET para o endereço da API e armazena a resposta em uma variável chamada 'resposta'\n",
        "resposta = requests.get(url)\n",
        "\n",
        "# Converte a resposta da API em formato JSON e armazena o resultado em uma variável chamada 'data'\n",
        "data = resposta.json()\n",
        "\n",
        "# Exibe todas as informações do jogo no console utilizando o comando 'print'\n",
        "#print(data)\n",
        "\n",
        "# Demonstra como acessar cada informação individualmente da lista 'data'\n",
        "# As listas em Python começam com o índice 0, então podemos acessar o penúltimo elemento usando o índice -2\n",
        "data[-2]\n",
        "\n",
        "# Gera uma palavra secreta aleatória da lista 'data' e armazena-a em uma variável chamada 'valor_secreto'\n",
        "valor_secreto = random.choice(data)\n",
        "\n",
        "# Extrai a palavra da chave 'palavra' do dicionário 'valor_secreto' e armazena-a em uma variável chamada 'palavra_secreta'\n",
        "palavra_secreta = valor_secreto['palavra']\n",
        "\n",
        "# Extrai a dica da chave 'dica' do dicionário 'valor_secreto' e armazena-a em uma variável chamada 'dica'\n",
        "dica = valor_secreto['dica']\n",
        "\n",
        "# Exibe na tela o número de letras da palavra secreta e a dica utilizando formatação de string f\n",
        "print(f' A palavra secreta tem {len(palavra_secreta)} letras')\n",
        "print(f' A dica é -> {dica}')\n",
        "\n",
        "# Solicita ao jogador que digite seu palpite para a palavra secreta\n",
        "chute = input('O que você acha que é: ')\n",
        "\n",
        "# Verifica se o palpite do jogador é igual à palavra secreta\n",
        "if chute == palavra_secreta:\n",
        "  # Se o palpite estiver correto, imprime uma mensagem de sucesso\n",
        "  print('Acertou!')\n",
        "else:\n",
        "  # Se o palpite estiver errado, imprime uma mensagem de erro e revela a palavra secreta\n",
        "  print(f'Errou... A palavra secreta era {palavra_secreta}')"
      ]
    },
    {
      "cell_type": "code",
      "source": [],
      "metadata": {
        "id": "lD7GfSRucaJh"
      },
      "execution_count": null,
      "outputs": []
    }
  ]
}